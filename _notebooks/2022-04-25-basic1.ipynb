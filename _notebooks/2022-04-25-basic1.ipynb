{
 "cells": [
  {
   "cell_type": "markdown",
   "id": "310cc99f-aa37-4efc-936d-9312066b84f6",
   "metadata": {},
   "source": [
    "# 파이썬 기초\n",
    "> 작업중\n",
    "- toc: true\n",
    "- branch: master\n",
    "- badges: false\n",
    "- comments: true\n",
    "- author: dinonana\n",
    "- categories: [python]"
   ]
  },
  {
   "cell_type": "code",
   "execution_count": null,
   "id": "f5679b55-3ceb-4f04-a9f5-c57fd0a08e73",
   "metadata": {},
   "outputs": [],
   "source": []
  }
 ],
 "metadata": {
  "kernelspec": {
   "display_name": "Python 3 (ipykernel)",
   "language": "python",
   "name": "python3"
  },
  "language_info": {
   "codemirror_mode": {
    "name": "ipython",
    "version": 3
   },
   "file_extension": ".py",
   "mimetype": "text/x-python",
   "name": "python",
   "nbconvert_exporter": "python",
   "pygments_lexer": "ipython3",
   "version": "3.8.11"
  }
 },
 "nbformat": 4,
 "nbformat_minor": 5
}
