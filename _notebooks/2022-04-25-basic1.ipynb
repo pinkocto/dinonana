{
 "cells": [
  {
   "cell_type": "markdown",
   "id": "310cc99f-aa37-4efc-936d-9312066b84f6",
   "metadata": {},
   "source": [
    "# 파이썬 기초\n",
    "> 작업중\n",
    "- toc: true\n",
    "- branch: master\n",
    "- badges: false\n",
    "- comments: true\n",
    "- author: dinonana\n",
    "- categories: [python]"
   ]
  },
  {
   "cell_type": "markdown",
   "id": "73197e58-19f2-457f-810c-afba0a09defc",
   "metadata": {},
   "source": [
    "### 1. 제어문 while"
   ]
  },
  {
   "cell_type": "markdown",
   "id": "5dc54e1d-4d9f-472b-813c-7977650ea0a0",
   "metadata": {},
   "source": [
    "`-` 1부터 9까지 2씩 증가하면서 출력하시오. "
   ]
  },
  {
   "cell_type": "code",
   "execution_count": 1,
   "id": "491bc801-04b8-4705-a203-f0f4fbb58821",
   "metadata": {},
   "outputs": [
    {
     "name": "stdout",
     "output_type": "stream",
     "text": [
      "1\n",
      "3\n",
      "5\n",
      "7\n",
      "9\n"
     ]
    }
   ],
   "source": [
    "i = 1\n",
    "while i < 10:\n",
    "    print(i)\n",
    "    i += 2"
   ]
  },
  {
   "cell_type": "markdown",
   "id": "9cae8043-d17f-4ffe-b1d8-877b450f2576",
   "metadata": {},
   "source": [
    "`-` 9부터 1까지 2씩 감소하면서 출력하시오."
   ]
  },
  {
   "cell_type": "code",
   "execution_count": 2,
   "id": "5ea8bb23-5f45-45b9-bb6f-46c17554ece4",
   "metadata": {},
   "outputs": [
    {
     "name": "stdout",
     "output_type": "stream",
     "text": [
      "9\n",
      "7\n",
      "5\n",
      "3\n",
      "1\n"
     ]
    }
   ],
   "source": [
    "i = 9\n",
    "while i > 0:\n",
    "    print(i)\n",
    "    i -= 2"
   ]
  },
  {
   "cell_type": "markdown",
   "id": "9fa5e0bb-a62e-4ab4-9388-b34b9e1b8c6e",
   "metadata": {},
   "source": [
    "`-` 1부터 10까지의 자연수의 합을 구하시오."
   ]
  },
  {
   "cell_type": "code",
   "execution_count": 6,
   "id": "4009868f-9cf0-4ffe-adbe-51a40aae1ceb",
   "metadata": {},
   "outputs": [
    {
     "name": "stdout",
     "output_type": "stream",
     "text": [
      "55\n"
     ]
    }
   ],
   "source": [
    "i = 1\n",
    "result = 0\n",
    "while i < 11:\n",
    "    result += i\n",
    "    i += 1\n",
    "print(result)"
   ]
  },
  {
   "cell_type": "markdown",
   "id": "47aadb94-bcf9-4c10-b71b-b5b7075e934e",
   "metadata": {},
   "source": [
    "`-` 구구단을 출력하시오."
   ]
  },
  {
   "cell_type": "code",
   "execution_count": 9,
   "id": "fa7b5252-452e-4476-82f8-0e69a04356ac",
   "metadata": {},
   "outputs": [
    {
     "name": "stdout",
     "output_type": "stream",
     "text": [
      "2\n",
      "3\n",
      "4\n",
      "5\n",
      "6\n",
      "7\n",
      "8\n",
      "9\n"
     ]
    }
   ],
   "source": [
    "i = 2\n",
    "while i < 10:\n",
    "    print(i)\n",
    "    i += 1"
   ]
  },
  {
   "cell_type": "code",
   "execution_count": 10,
   "id": "6b6715e2-1b72-4679-b1f6-eb40564099a7",
   "metadata": {},
   "outputs": [
    {
     "name": "stdout",
     "output_type": "stream",
     "text": [
      "3\n",
      "6\n",
      "9\n",
      "12\n",
      "15\n",
      "18\n",
      "21\n",
      "24\n",
      "27\n",
      "4\n",
      "8\n",
      "12\n",
      "16\n",
      "20\n",
      "24\n",
      "28\n",
      "32\n",
      "36\n",
      "5\n",
      "10\n",
      "15\n",
      "20\n",
      "25\n",
      "30\n",
      "35\n",
      "40\n",
      "45\n",
      "6\n",
      "12\n",
      "18\n",
      "24\n",
      "30\n",
      "36\n",
      "42\n",
      "48\n",
      "54\n",
      "7\n",
      "14\n",
      "21\n",
      "28\n",
      "35\n",
      "42\n",
      "49\n",
      "56\n",
      "63\n",
      "8\n",
      "16\n",
      "24\n",
      "32\n",
      "40\n",
      "48\n",
      "56\n",
      "64\n",
      "72\n",
      "9\n",
      "18\n",
      "27\n",
      "36\n",
      "45\n",
      "54\n",
      "63\n",
      "72\n",
      "81\n",
      "10\n",
      "20\n",
      "30\n",
      "40\n",
      "50\n",
      "60\n",
      "70\n",
      "80\n",
      "90\n"
     ]
    }
   ],
   "source": [
    "i = 2\n",
    "while i < 10:\n",
    "    i += 1\n",
    "    \n",
    "    j = 1\n",
    "    while j < 10:\n",
    "        print(i * j)\n",
    "        j += 1"
   ]
  },
  {
   "cell_type": "markdown",
   "id": "09114d3e-34b7-4cd1-ac39-3bb655f932ec",
   "metadata": {},
   "source": [
    "- 뭔가 이상한데??\n",
    "- i 가 업데이트 될 위치를 바꿔줘야 한다."
   ]
  },
  {
   "cell_type": "code",
   "execution_count": 11,
   "id": "c74dea34-a987-46b3-b522-25ca461a8746",
   "metadata": {},
   "outputs": [
    {
     "name": "stdout",
     "output_type": "stream",
     "text": [
      "2\n",
      "4\n",
      "6\n",
      "8\n",
      "10\n",
      "12\n",
      "14\n",
      "16\n",
      "18\n",
      "3\n",
      "6\n",
      "9\n",
      "12\n",
      "15\n",
      "18\n",
      "21\n",
      "24\n",
      "27\n",
      "4\n",
      "8\n",
      "12\n",
      "16\n",
      "20\n",
      "24\n",
      "28\n",
      "32\n",
      "36\n",
      "5\n",
      "10\n",
      "15\n",
      "20\n",
      "25\n",
      "30\n",
      "35\n",
      "40\n",
      "45\n",
      "6\n",
      "12\n",
      "18\n",
      "24\n",
      "30\n",
      "36\n",
      "42\n",
      "48\n",
      "54\n",
      "7\n",
      "14\n",
      "21\n",
      "28\n",
      "35\n",
      "42\n",
      "49\n",
      "56\n",
      "63\n",
      "8\n",
      "16\n",
      "24\n",
      "32\n",
      "40\n",
      "48\n",
      "56\n",
      "64\n",
      "72\n",
      "9\n",
      "18\n",
      "27\n",
      "36\n",
      "45\n",
      "54\n",
      "63\n",
      "72\n",
      "81\n"
     ]
    }
   ],
   "source": [
    "i = 2\n",
    "while i < 10:\n",
    "    \n",
    "    j = 1\n",
    "    while j < 10:\n",
    "        print(i*j)\n",
    "        j += 1\n",
    "        \n",
    "    i += 1\n"
   ]
  },
  {
   "cell_type": "markdown",
   "id": "4352ef47-f440-43d6-9626-1e0789ef4805",
   "metadata": {},
   "source": [
    "- 구구단이 잘 출력된 것 같다.\n",
    "- 그런데 보기가 너무 안좋은데??"
   ]
  },
  {
   "cell_type": "markdown",
   "id": "f7c228e3-7fa9-4fd1-be5a-8b102ef3ff1d",
   "metadata": {},
   "source": [
    "`-` 좀 더 깔끔하게!"
   ]
  },
  {
   "cell_type": "code",
   "execution_count": 18,
   "id": "733d1cad-3b46-43b8-98dc-320f884e8711",
   "metadata": {},
   "outputs": [
    {
     "name": "stdout",
     "output_type": "stream",
     "text": [
      "< 2 단 >\n",
      "2 x 1 = 2\n",
      "2 x 2 = 4\n",
      "2 x 3 = 6\n",
      "2 x 4 = 8\n",
      "2 x 5 = 10\n",
      "2 x 6 = 12\n",
      "2 x 7 = 14\n",
      "2 x 8 = 16\n",
      "2 x 9 = 18\n",
      "\n",
      "\n",
      "< 3 단 >\n",
      "3 x 1 = 3\n",
      "3 x 2 = 6\n",
      "3 x 3 = 9\n",
      "3 x 4 = 12\n",
      "3 x 5 = 15\n",
      "3 x 6 = 18\n",
      "3 x 7 = 21\n",
      "3 x 8 = 24\n",
      "3 x 9 = 27\n",
      "\n",
      "\n",
      "< 4 단 >\n",
      "4 x 1 = 4\n",
      "4 x 2 = 8\n",
      "4 x 3 = 12\n",
      "4 x 4 = 16\n",
      "4 x 5 = 20\n",
      "4 x 6 = 24\n",
      "4 x 7 = 28\n",
      "4 x 8 = 32\n",
      "4 x 9 = 36\n",
      "\n",
      "\n",
      "< 5 단 >\n",
      "5 x 1 = 5\n",
      "5 x 2 = 10\n",
      "5 x 3 = 15\n",
      "5 x 4 = 20\n",
      "5 x 5 = 25\n",
      "5 x 6 = 30\n",
      "5 x 7 = 35\n",
      "5 x 8 = 40\n",
      "5 x 9 = 45\n",
      "\n",
      "\n",
      "< 6 단 >\n",
      "6 x 1 = 6\n",
      "6 x 2 = 12\n",
      "6 x 3 = 18\n",
      "6 x 4 = 24\n",
      "6 x 5 = 30\n",
      "6 x 6 = 36\n",
      "6 x 7 = 42\n",
      "6 x 8 = 48\n",
      "6 x 9 = 54\n",
      "\n",
      "\n",
      "< 7 단 >\n",
      "7 x 1 = 7\n",
      "7 x 2 = 14\n",
      "7 x 3 = 21\n",
      "7 x 4 = 28\n",
      "7 x 5 = 35\n",
      "7 x 6 = 42\n",
      "7 x 7 = 49\n",
      "7 x 8 = 56\n",
      "7 x 9 = 63\n",
      "\n",
      "\n",
      "< 8 단 >\n",
      "8 x 1 = 8\n",
      "8 x 2 = 16\n",
      "8 x 3 = 24\n",
      "8 x 4 = 32\n",
      "8 x 5 = 40\n",
      "8 x 6 = 48\n",
      "8 x 7 = 56\n",
      "8 x 8 = 64\n",
      "8 x 9 = 72\n",
      "\n",
      "\n",
      "< 9 단 >\n",
      "9 x 1 = 9\n",
      "9 x 2 = 18\n",
      "9 x 3 = 27\n",
      "9 x 4 = 36\n",
      "9 x 5 = 45\n",
      "9 x 6 = 54\n",
      "9 x 7 = 63\n",
      "9 x 8 = 72\n",
      "9 x 9 = 81\n",
      "\n",
      "\n"
     ]
    }
   ],
   "source": [
    "i = 2\n",
    "while i < 10:\n",
    "    print('< {} 단 >'.format(i))\n",
    "    j = 1\n",
    "    while j < 10:\n",
    "        print('{} x {} = {}'.format(i, j, i*j))\n",
    "        j += 1\n",
    "    print('\\n')\n",
    "    i += 1"
   ]
  },
  {
   "cell_type": "markdown",
   "id": "2fa8ece0-a73e-4874-8ecc-14f8bc1f31f3",
   "metadata": {},
   "source": [
    "### 2. 제어문 if"
   ]
  },
  {
   "cell_type": "markdown",
   "id": "c8dfb02e-82e2-4763-b4e8-48d9ae52bf72",
   "metadata": {},
   "source": [
    "```\n",
    "if 조건1:\n",
    "    조건 1이 참 일때의 실행문\n",
    "elif 조건2:\n",
    "    조건2가 참 일때의 실행문\n",
    "else:\n",
    "    실행문\n",
    " ```"
   ]
  },
  {
   "cell_type": "markdown",
   "id": "cd431a5d-92a0-4ad8-a8cb-33973c20e6cb",
   "metadata": {},
   "source": [
    "`-` 학점이 2보다 작으면 '학점경고'를 출력, 4이상이면 '우수', 나머지는 무시하시오."
   ]
  },
  {
   "cell_type": "code",
   "execution_count": 1,
   "id": "8064ae6f-c37d-484d-b8f2-8f55ec512071",
   "metadata": {},
   "outputs": [
    {
     "name": "stdin",
     "output_type": "stream",
     "text": [
      "내 학점:  4\n"
     ]
    }
   ],
   "source": [
    "grade = float(input(\"내 학점: \"))"
   ]
  },
  {
   "cell_type": "code",
   "execution_count": 2,
   "id": "4d14dff5-2c27-43d5-8401-a1cc91dd5ae6",
   "metadata": {},
   "outputs": [
    {
     "data": {
      "text/plain": [
       "float"
      ]
     },
     "execution_count": 2,
     "metadata": {},
     "output_type": "execute_result"
    }
   ],
   "source": [
    "type(grade)"
   ]
  },
  {
   "cell_type": "code",
   "execution_count": 3,
   "id": "991ee931-bb70-405d-aa0b-46acda11f4fe",
   "metadata": {},
   "outputs": [
    {
     "name": "stdout",
     "output_type": "stream",
     "text": [
      "우수\n"
     ]
    }
   ],
   "source": [
    "if grade >= 4:\n",
    "    print('우수')\n",
    "elif grade < 2:\n",
    "    print('학점경고')\n",
    "else:\n",
    "    pass"
   ]
  },
  {
   "cell_type": "markdown",
   "id": "2e77a0f2-812f-4859-b8b7-e5500bcd7c64",
   "metadata": {},
   "source": [
    "`-` 점수가 90점 이상이면 'A', 80점 이상임면 'B', 70점 이상이면 'C', 60점 이상이면 'D', 나머지는 'F'로 출력하시오."
   ]
  },
  {
   "cell_type": "code",
   "execution_count": 4,
   "id": "ca053cbb-38ea-4ad2-9f22-0bd794e550ed",
   "metadata": {},
   "outputs": [],
   "source": [
    "x = 70"
   ]
  },
  {
   "cell_type": "code",
   "execution_count": 5,
   "id": "479dcdfc-9f41-412c-8571-6f6ca787e9f0",
   "metadata": {},
   "outputs": [
    {
     "name": "stdout",
     "output_type": "stream",
     "text": [
      "C\n"
     ]
    }
   ],
   "source": [
    "if x >= 90:\n",
    "    print('A')\n",
    "elif x >= 80:\n",
    "    print('B')\n",
    "elif x >= 70:\n",
    "    print('C')\n",
    "elif x >= 60:\n",
    "    print('D')\n",
    "else:\n",
    "    print('F')"
   ]
  },
  {
   "cell_type": "markdown",
   "id": "4ace5a79-ad7a-446c-9e80-a7feacc9ac70",
   "metadata": {},
   "source": [
    "`-` toeic 리스트에는 학생들의 토익점수가 들어있다. 점수가 950점 이상이면 '토익의신', 850점 이상이면  '좀하네', 700점 이상이면 '보통' 그 이하이면 '공부해라'를 출력하시오."
   ]
  },
  {
   "cell_type": "code",
   "execution_count": 9,
   "id": "fda98bb9-6f82-4b68-a390-f01615819e2f",
   "metadata": {},
   "outputs": [],
   "source": [
    "toeic = [250, 985, 850, 725, 600]"
   ]
  },
  {
   "cell_type": "code",
   "execution_count": 10,
   "id": "51560e39-0e5f-4b9b-8bf6-ded0ded63bcc",
   "metadata": {},
   "outputs": [
    {
     "name": "stdout",
     "output_type": "stream",
     "text": [
      "250\n",
      "985\n",
      "850\n",
      "725\n",
      "600\n"
     ]
    }
   ],
   "source": [
    "for i in toeic:\n",
    "    print(i)"
   ]
  },
  {
   "cell_type": "code",
   "execution_count": 11,
   "id": "70c4af91-8a04-4ac7-82a2-b81684b20706",
   "metadata": {},
   "outputs": [
    {
     "name": "stdout",
     "output_type": "stream",
     "text": [
      "250 공부해라\n",
      "985 토익의신\n",
      "850 좀하네..\n",
      "725 보통\n",
      "600 공부해라\n"
     ]
    }
   ],
   "source": [
    "for i in toeic:\n",
    "    if i >= 950:\n",
    "        print(i, '토익의신')\n",
    "    elif i >= 850:\n",
    "        print(i, '좀하네..')\n",
    "    elif i >= 700:\n",
    "        print(i, '보통')\n",
    "    else:\n",
    "        print(i, '공부해라')"
   ]
  },
  {
   "cell_type": "code",
   "execution_count": null,
   "id": "e5f81314-fd8d-47f2-a632-efa649b3a0b0",
   "metadata": {},
   "outputs": [],
   "source": []
  }
 ],
 "metadata": {
  "kernelspec": {
   "display_name": "Python 3 (ipykernel)",
   "language": "python",
   "name": "python3"
  },
  "language_info": {
   "codemirror_mode": {
    "name": "ipython",
    "version": 3
   },
   "file_extension": ".py",
   "mimetype": "text/x-python",
   "name": "python",
   "nbconvert_exporter": "python",
   "pygments_lexer": "ipython3",
   "version": "3.8.11"
  }
 },
 "nbformat": 4,
 "nbformat_minor": 5
}
