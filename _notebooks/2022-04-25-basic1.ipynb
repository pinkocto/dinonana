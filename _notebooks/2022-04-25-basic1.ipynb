{
 "cells": [
  {
   "cell_type": "markdown",
   "id": "310cc99f-aa37-4efc-936d-9312066b84f6",
   "metadata": {},
   "source": [
    "# 파이썬 기초\n",
    "> 작업중\n",
    "- toc: true\n",
    "- branch: master\n",
    "- badges: false\n",
    "- comments: true\n",
    "- author: dinonana\n",
    "- categories: [python]"
   ]
  },
  {
   "cell_type": "code",
   "execution_count": 3,
   "id": "e1b26915-2305-461c-9ac5-b26ebff3dabc",
   "metadata": {},
   "outputs": [
    {
     "data": {
      "text/plain": [
       "3.253012048192771"
      ]
     },
     "execution_count": 3,
     "metadata": {},
     "output_type": "execute_result"
    }
   ],
   "source": [
    "(0.52*4+0.31*2)/(0.52+0.31)"
   ]
  },
  {
   "cell_type": "code",
   "execution_count": 4,
   "id": "ac2d5811-8858-4db6-a1a9-046d3abf555b",
   "metadata": {},
   "outputs": [
    {
     "data": {
      "text/plain": [
       "3.5438596491228065"
      ]
     },
     "execution_count": 4,
     "metadata": {},
     "output_type": "execute_result"
    }
   ],
   "source": [
    "(0.26*3+0.31*4)/(0.26+0.31)"
   ]
  },
  {
   "cell_type": "code",
   "execution_count": 9,
   "id": "bd63ab56-144b-4e6e-9ebe-95183946dea3",
   "metadata": {},
   "outputs": [
    {
     "data": {
      "text/plain": [
       "0.6288281455225324"
      ]
     },
     "execution_count": 9,
     "metadata": {},
     "output_type": "execute_result"
    }
   ],
   "source": [
    "22/((34 * 36)**0.5)"
   ]
  },
  {
   "cell_type": "code",
   "execution_count": 12,
   "id": "4904210d-2740-4d70-8b69-e2dda4f1121f",
   "metadata": {},
   "outputs": [
    {
     "data": {
      "text/plain": [
       "2.0"
      ]
     },
     "execution_count": 12,
     "metadata": {},
     "output_type": "execute_result"
    }
   ],
   "source": [
    "3.33+(0.87*(2-3.33)/0.87)"
   ]
  },
  {
   "cell_type": "code",
   "execution_count": 13,
   "id": "85f2870a-d4ff-4a8b-885b-ccc73c31454d",
   "metadata": {},
   "outputs": [
    {
     "data": {
      "text/plain": [
       "2.0"
      ]
     },
     "execution_count": 13,
     "metadata": {},
     "output_type": "execute_result"
    }
   ],
   "source": [
    "3.5+(0.87*(2-3.5))/0.87"
   ]
  },
  {
   "cell_type": "code",
   "execution_count": null,
   "id": "2d7ae820-936d-488f-8b1f-e52b772580e0",
   "metadata": {},
   "outputs": [],
   "source": [
    " "
   ]
  }
 ],
 "metadata": {
  "kernelspec": {
   "display_name": "Python 3 (ipykernel)",
   "language": "python",
   "name": "python3"
  },
  "language_info": {
   "codemirror_mode": {
    "name": "ipython",
    "version": 3
   },
   "file_extension": ".py",
   "mimetype": "text/x-python",
   "name": "python",
   "nbconvert_exporter": "python",
   "pygments_lexer": "ipython3",
   "version": "3.8.11"
  }
 },
 "nbformat": 4,
 "nbformat_minor": 5
}
