{
 "cells": [
  {
   "cell_type": "markdown",
   "id": "1a0e77c0-a8f8-4a46-b642-1b6a2df58d39",
   "metadata": {},
   "source": [
    "# 파이썬 기초\n",
    "> List Comprehension\n",
    "- toc: true\n",
    "- branch: master\n",
    "- badges: false\n",
    "- comments: true\n",
    "- author: dinonana\n",
    "- categories: [python]"
   ]
  },
  {
   "cell_type": "markdown",
   "id": "fdb153be-7e97-4c42-86b0-7b4480bc6bf8",
   "metadata": {},
   "source": [
    "## 1. List Comprehension"
   ]
  },
  {
   "cell_type": "markdown",
   "id": "e016e9b7-94d2-49ca-a3fe-d41aff49cd1d",
   "metadata": {},
   "source": [
    "`1번` 기본문제"
   ]
  },
  {
   "cell_type": "code",
   "execution_count": 1,
   "id": "1347d128-734b-4cd0-aec1-fca8dd8bbc2e",
   "metadata": {},
   "outputs": [
    {
     "name": "stdout",
     "output_type": "stream",
     "text": [
      "[1, 2, 3, 4, 5, 6, 7, 8, 9, 10]\n"
     ]
    }
   ],
   "source": [
    "a = []\n",
    "for i in range(1, 11, 1):\n",
    "    a.append(i)\n",
    "print(a)"
   ]
  },
  {
   "cell_type": "markdown",
   "id": "98862277-3dbe-4768-b201-aea4198a0b22",
   "metadata": {},
   "source": [
    "- append를 이용하여 리스트에 추가"
   ]
  },
  {
   "cell_type": "code",
   "execution_count": 2,
   "id": "d116e71e-d169-4931-ae96-72e4c7ecc2ec",
   "metadata": {},
   "outputs": [
    {
     "name": "stdout",
     "output_type": "stream",
     "text": [
      "[1, 2, 3, 4, 5, 6, 7, 8, 9, 10]\n"
     ]
    }
   ],
   "source": [
    "a = [i for i in range(1, 11, 1)]\n",
    "print(a)"
   ]
  },
  {
   "cell_type": "markdown",
   "id": "afbdef87-f632-4b1b-bc58-f9704824eccf",
   "metadata": {},
   "source": [
    "- List Comprehension 적용"
   ]
  },
  {
   "cell_type": "markdown",
   "id": "e4c39c2d-3a23-49b3-a760-d8ef12ad83fc",
   "metadata": {},
   "source": [
    "`2번` 기본문제"
   ]
  },
  {
   "cell_type": "code",
   "execution_count": 6,
   "id": "7c593305-abc1-4482-bdf5-6da79108362e",
   "metadata": {},
   "outputs": [
    {
     "name": "stdout",
     "output_type": "stream",
     "text": [
      "[1, 4, 9, 16, 25, 36, 49, 64, 81, 100]\n"
     ]
    }
   ],
   "source": [
    "b = []\n",
    "for i in range(1, 11, 1):\n",
    "    b.append(i ** 2)\n",
    "print(b)"
   ]
  },
  {
   "cell_type": "code",
   "execution_count": 10,
   "id": "0ec81181-b889-4304-a018-29b3239691a5",
   "metadata": {},
   "outputs": [
    {
     "name": "stdout",
     "output_type": "stream",
     "text": [
      "[1, 4, 9, 16, 25, 36, 49, 64, 81, 100]\n"
     ]
    }
   ],
   "source": [
    "b = [i ** 2 for i in range(1, 11, 1)]\n",
    "print(b)"
   ]
  },
  {
   "cell_type": "markdown",
   "id": "4097fccb-faec-4e9d-8376-8d599c11c9f0",
   "metadata": {},
   "source": [
    "`3번` 리스트 컴프리헨션 + if문"
   ]
  },
  {
   "cell_type": "code",
   "execution_count": 11,
   "id": "d2e1ab1f-a250-4ed8-ae34-a3863a033d4a",
   "metadata": {},
   "outputs": [],
   "source": [
    "c = [1, 2, 3, 4, 5]"
   ]
  },
  {
   "cell_type": "code",
   "execution_count": 12,
   "id": "c839ff3f-1894-4329-9fe1-3ef714ebff26",
   "metadata": {},
   "outputs": [
    {
     "name": "stdout",
     "output_type": "stream",
     "text": [
      "[1, 2, 3, 4, 5]\n"
     ]
    }
   ],
   "source": [
    "class_id = [i for i in c]\n",
    "print(class_id)"
   ]
  },
  {
   "cell_type": "code",
   "execution_count": 14,
   "id": "ebabda72-6adc-4953-88da-028de489c897",
   "metadata": {},
   "outputs": [
    {
     "name": "stdout",
     "output_type": "stream",
     "text": [
      "[4, 5]\n"
     ]
    }
   ],
   "source": [
    "class_id = [i for i in c if i >= 4]\n",
    "print(class_id)"
   ]
  }
 ],
 "metadata": {
  "kernelspec": {
   "display_name": "Python 3 (ipykernel)",
   "language": "python",
   "name": "python3"
  },
  "language_info": {
   "codemirror_mode": {
    "name": "ipython",
    "version": 3
   },
   "file_extension": ".py",
   "mimetype": "text/x-python",
   "name": "python",
   "nbconvert_exporter": "python",
   "pygments_lexer": "ipython3",
   "version": "3.8.11"
  }
 },
 "nbformat": 4,
 "nbformat_minor": 5
}
